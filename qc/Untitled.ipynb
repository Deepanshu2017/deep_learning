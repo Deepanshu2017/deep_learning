{
 "cells": [
  {
   "cell_type": "code",
   "execution_count": 1,
   "metadata": {},
   "outputs": [
    {
     "name": "stdout",
     "output_type": "stream",
     "text": [
      "COMPLETED\n",
      "{'counts': {'01': 524, '00': 500}}\n"
     ]
    }
   ],
   "source": [
    "from qiskit import QuantumProgram\n",
    "\n",
    "# Creating Programs create your first QuantumProgram object instance.\n",
    "Q_program = QuantumProgram()\n",
    "\n",
    "# Creating Registers create your first Quantum Register called \"qr\" with 2 qubits\n",
    "qr = Q_program.create_quantum_register(\"qr\", 2)\n",
    "# create your first Classical Register called \"cr\" with 2 bits\n",
    "cr = Q_program.create_classical_register(\"cr\", 2)\n",
    "# Creating Circuits create your first Quantum Circuit called \"qc\" involving your Quantum Register \"qr\" \n",
    "# and your Classical Register \"cr\"\n",
    "qc = Q_program.create_circuit(\"superposition\", [qr], [cr])\n",
    "\n",
    "# add the H gate in the Qubit 0, we put this Qubit in superposition\n",
    "qc.h(qr[0])\n",
    "\n",
    "# add measure to see the state\n",
    "qc.measure(qr, cr)\n",
    "\n",
    "# Compiled  and execute in the local_qasm_simulator\n",
    "\n",
    "result = Q_program.execute([\"superposition\"], backend='local_qasm_simulator', shots=1024)\n",
    "\n",
    "# Show the results\n",
    "print(result)\n",
    "print(result.get_data(\"superposition\"))"
   ]
  },
  {
   "cell_type": "code",
   "execution_count": null,
   "metadata": {},
   "outputs": [],
   "source": []
  }
 ],
 "metadata": {
  "kernelspec": {
   "display_name": "Python 3",
   "language": "python",
   "name": "python3"
  },
  "language_info": {
   "codemirror_mode": {
    "name": "ipython",
    "version": 3
   },
   "file_extension": ".py",
   "mimetype": "text/x-python",
   "name": "python",
   "nbconvert_exporter": "python",
   "pygments_lexer": "ipython3",
   "version": "3.5.2"
  }
 },
 "nbformat": 4,
 "nbformat_minor": 2
}

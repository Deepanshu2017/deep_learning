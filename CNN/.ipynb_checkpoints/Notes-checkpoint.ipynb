{
 "cells": [
  {
   "cell_type": "markdown",
   "metadata": {},
   "source": [
    "# SVM\n",
    "\n",
    "The SVM loss function is \n",
    "\n",
    "$$L_i = \\sum_{j\\neq y_i} \\max(0, s_j - s_{y_i} + \\Delta)$$\n",
    "\n",
    "which can also be written as (j is the correct class)\n",
    "\n",
    "$$L_i = \\sum_{j\\neq y_i} \\max(0, w_j^T x_i - w_{y_i}^T x_i + \\Delta)$$\n",
    "Where\n",
    "$$s_j = w_j^T x_i \\hspace{0.5in} s_{y_i} = w_{y_i}^T x_i$$\n",
    "\n",
    "The gradient of the loss can be calculated as below\n",
    "\n",
    "$$\\frac{\\partial L_i}{\\partial w_j} = 1(s_j - s_{y_i} + \\Delta > 0)x_i \\hspace{0.5in} \\text {when } i \\neq j$$\n",
    "\n",
    "$$\\frac{\\partial L_i}{\\partial w_j} = -1(s_j - s_{y_i} + \\Delta > 0)x_i \\hspace{0.5in} \\text {when } i = j$$\n",
    "\n",
    "Now with the gradient update the real weights such as\n",
    "\n",
    "$$ W = W - \\eta * grad$$\n",
    "\n",
    "<img src=\"svm_flowchart.png\">\n",
    "\n",
    "Now to predict the new image's class, simply calculate the new image score with respect to the updated weights and find the maximum score.\n",
    "\n",
    "$$scores = W.X$$\n",
    "$$Predicted\\_class = max(scores).index$$"
   ]
  },
  {
   "cell_type": "markdown",
   "metadata": {
    "collapsed": true
   },
   "source": [
    "# Softmax\n",
    "\n",
    "The loss function for softmax is\n",
    "\n",
    "$$L_i = -\\log\\left(\\frac{e^{f_{y_i}}}{ \\sum_j e^{f_j} }\\right) \\hspace{0.5in} \\text{or equivalently} \\hspace{0.5in} L_i = -f_{y_i} + \\log\\sum_j e^{f_j}$$\n",
    "\n",
    "Here\n",
    "\n",
    "$$f_{y_i} = W.X_i + b$$\n",
    "\n",
    "$$f_j(z) = \\frac{e^{z_j}}{\\sum_k e^{z_k}} \\text{is known as SoftMax Function}$$\n",
    "\n",
    "Now the gradient of the above function can be calculated as below-\n",
    "\n",
    "$$\\begin{split}\n",
    "\\frac{\\partial L}{\\partial w} = \\frac{\\partial L}{\\partial P(x)} . \\frac{\\partial P(x)}{\\partial f_y} . \\frac{\\partial f_y}{\\partial w} \\\\\n",
    "\\\\\n",
    "\\frac{\\partial L}{\\partial w} = \\frac{\\partial (-log p(x))}{\\partial p(x)} \\\\\n",
    "\\\\\n",
    "\\frac{\\partial L}{\\partial w} = \\frac{-1}{p(x)} * \\frac{\\partial {p(x)}}{\\partial f_y} \\\\\n",
    "\\\\\n",
    "\\frac{\\partial L}{\\partial w} = \\frac{-1}{p(x)} * \\frac{\\partial (\\frac{e^{f_x}}{\\sum_y e^{f_y}})}{\\partial f_y} \\\\\n",
    "\\\\\n",
    "\\end{split}$$\n",
    "if x == y\n",
    "\n",
    "$$\\begin{split}\n",
    "\\frac{\\partial L}{\\partial w} = \\frac{-1}{p(x)} * \\frac{\\partial(\\frac{(e^{f_x} * \\sum_y e^{f_y}) - (e^{f_x} * e^{f_y}))}{(\\sum_y e^{f_y})^2}}{\\partial f_y}\\\\\n",
    "\\\\\n",
    "\\frac{\\partial L}{\\partial w} = \\frac{-1}{p(x)} * {\\frac{e^{f_x}}{\\sum_y e^{f_y}} * \\frac{\\sum_y e^{f_y} - e^{f_y}}{\\sum_y e^{f_y}}} * \\frac{\\partial f_y}{\\partial w}\\\\\n",
    "\\\\\n",
    "\\frac{\\partial L}{\\partial w} = \\frac{-1}{p(x)} * ({p(x)} * (1 - p(y))) * \\frac{\\partial (X * W + b)}{\\partial w}\\\\\n",
    "\\\\\n",
    "\\frac{\\partial L}{\\partial w} =  -(1 - p(y)) * X\\\\\n",
    "\\\\\n",
    "\\frac{\\partial L}{\\partial w} =  (p(y) - 1) * X\\\\\n",
    "\\end{split}$$\n",
    "\n",
    "$$x\\ne y$$\n",
    "\n",
    "$$\\begin{split}\n",
    "\\frac{\\partial L}{\\partial w} = \\frac{-1}{p(x)} * \\frac{\\partial(\\frac{(0 * \\sum_y e^{f_y}) - (e^{f_x} * e^{f_y}))}{(\\sum_y e^{f_y})^2}}{\\partial f_y}\\\\\n",
    "\\\\\n",
    "\\frac{\\partial L}{\\partial w} = \\frac{-1}{p(x)} * (-{\\frac{e^{f_x}}{\\sum_y e^{f_y}} * \\frac{e^{f_y}}{\\sum_y e^{f_y}}}) * \\frac{\\partial f_y}{\\partial w}\\\\\n",
    "\\\\\n",
    "\\frac{\\partial L}{\\partial w} = \\frac{-1}{p(x)} * (-p(x)p(y)) * \\frac{\\partial (X * W + b)}{\\partial w}\\\\\n",
    "\\\\\n",
    "\\frac{\\partial L}{\\partial w} =  p(y) * X\\\\\n",
    "\\end{split}$$\n",
    "\n",
    "Above p(x) and p(y) are the softmax output."
   ]
  },
  {
   "cell_type": "code",
   "execution_count": null,
   "metadata": {
    "collapsed": true
   },
   "outputs": [],
   "source": []
  }
 ],
 "metadata": {
  "kernelspec": {
   "display_name": "Python 2",
   "language": "python",
   "name": "python2"
  },
  "language_info": {
   "codemirror_mode": {
    "name": "ipython",
    "version": 2
   },
   "file_extension": ".py",
   "mimetype": "text/x-python",
   "name": "python",
   "nbconvert_exporter": "python",
   "pygments_lexer": "ipython2",
   "version": "2.7.12"
  }
 },
 "nbformat": 4,
 "nbformat_minor": 2
}

{
 "cells": [
  {
   "cell_type": "code",
   "execution_count": 3,
   "metadata": {
    "collapsed": true
   },
   "outputs": [],
   "source": [
    "import numpy as np"
   ]
  },
  {
   "cell_type": "code",
   "execution_count": 4,
   "metadata": {
    "collapsed": true
   },
   "outputs": [],
   "source": [
    "class NearestNeighbour:\n",
    "    \n",
    "    def __init__(self):\n",
    "        pass\n",
    "    \n",
    "    def train(self, X, Y):\n",
    "        self.Xtr = X\n",
    "        self.Ytr = Y\n",
    "        \n",
    "    def predict(self, X):\n",
    "        num_test = X.shape[0]\n",
    "        Ypred = np.zeros(num_test, dtype=self.Ytr.dtype)\n",
    "        \n",
    "        for i in range(num_test):\n",
    "            \n",
    "            distance = np.sum(np.abs(self.Xtr - X[i, :]), axis=1)\n",
    "            min_index = np.argmin(distance)\n",
    "            Ypred[i] = self.Ytr[min_index]\n",
    "            \n",
    "        return Ypred"
   ]
  },
  {
   "cell_type": "code",
   "execution_count": 13,
   "metadata": {
    "collapsed": true
   },
   "outputs": [],
   "source": [
    "import matplotlib.pyplot as plt\n",
    "import math\n",
    "%matplotlib inline"
   ]
  },
  {
   "cell_type": "code",
   "execution_count": 14,
   "metadata": {},
   "outputs": [
    {
     "data": {
      "image/png": "[encoded data removed]",
      "text/plain": [
       "<matplotlib.figure.Figure at 0x21c430cf320>"
      ]
     },
     "metadata": {},
     "output_type": "display_data"
    }
   ],
   "source": []
  },
  {
   "cell_type": "code",
   "execution_count": 33,
   "metadata": {
    "collapsed": true
   },
   "outputs": [],
   "source": [
    "\n",
    "\n",
    "def calculate_eculid(point_a, point_b):\n",
    "    return math.sqrt((point_a[0] - point_b[0]) ** 2 + (point_a[1] - point_b[1]) ** 2)\n",
    "\n",
    "def manhatten(point_a, point_b):\n",
    "    return np.abs(point_a[0] - point_b[0]) + np.abs(point_a[1] - point_b[1])\n",
    "\n",
    "def classify_a_point(points, inp_point, k=3):\n",
    "    \n",
    "    distances = list()\n",
    "    \n",
    "    for group in points:\n",
    "        for point in points[group]:\n",
    "            # distances.append((calculate_eculid(point, inp_point), group))\n",
    "            distances.append((manhatten(point, inp_point), group))\n",
    "            \n",
    "    distances = sorted(distances)[:k]\n",
    "    \n",
    "    \n",
    "    freq_a = 0\n",
    "    freq_b = 0\n",
    "    for distance in distances:\n",
    "        if distance[1] == 0:\n",
    "            freq_a += 1\n",
    "        else:\n",
    "            freq_b += 1\n",
    "\n",
    "    zero = points[0]\n",
    "    one = points[1]\n",
    "\n",
    "    zero_x = list()\n",
    "    zero_y = list()\n",
    "    one_x = list()\n",
    "    one_y = list()\n",
    "\n",
    "    for point in zero:\n",
    "        zero_x.append(point[0])\n",
    "        zero_y.append(point[1])\n",
    "\n",
    "    for point in one:\n",
    "        one_x.append(point[0])\n",
    "        one_y.append(point[1])\n",
    "\n",
    "    plt.scatter(zero_x, zero_y)\n",
    "    plt.scatter(one_x, one_y)\n",
    "    plt.scatter(inp_point[0], inp_point[1])\n",
    "    plt.show()\n",
    "            \n",
    "    return 0 if freq_a > freq_b else 1\n",
    "    "
   ]
  },
  {
   "cell_type": "code",
   "execution_count": 40,
   "metadata": {},
   "outputs": [
    {
     "data": {
      "image/png": "[encoded data removed]",
      "text/plain": [
       "<matplotlib.figure.Figure at 0x21c43097da0>"
      ]
     },
     "metadata": {},
     "output_type": "display_data"
    },
    {
     "name": "stdout",
     "output_type": "stream",
     "text": [
      "1\n"
     ]
    }
   ],
   "source": [
    "points = {0:[(1,12),(2,5),(3,6),(3,10),(3.5,8),(2,11),(2,9),(1,7)], \n",
    "          1:[(5,3),(3,2),(1.5,9),(7,2),(6,1),(3.8,1),(5.6,4),(4,2),(2,5)]}\n",
    "\n",
    "print (classify_a_point(points, (1.5, 1), k=5))"
   ]
  },
  {
   "cell_type": "code",
   "execution_count": 43,
   "metadata": {},
   "outputs": [
    {
     "data": {
      "image/png": "[encoded data removed]",
      "text/plain": [
       "<matplotlib.figure.Figure at 0x21c434ea470>"
      ]
     },
     "metadata": {},
     "output_type": "display_data"
    },
    {
     "name": "stdout",
     "output_type": "stream",
     "text": [
      "0\n"
     ]
    }
   ],
   "source": [
    "print (classify_a_point(points, (1.5, 10), k=5))"
   ]
  },
  {
   "cell_type": "code",
   "execution_count": 47,
   "metadata": {},
   "outputs": [
    {
     "data": {
      "image/png": "[encoded data removed]",
      "text/plain": [
       "<matplotlib.figure.Figure at 0x21c4320fda0>"
      ]
     },
     "metadata": {},
     "output_type": "display_data"
    },
    {
     "name": "stdout",
     "output_type": "stream",
     "text": [
      "1\n"
     ]
    }
   ],
   "source": [
    "print (classify_a_point(points, (1.5, 10), k=1))"
   ]
  },
  {
   "cell_type": "code",
   "execution_count": null,
   "metadata": {
    "collapsed": true
   },
   "outputs": [],
   "source": []
  }
 ],
 "metadata": {
  "kernelspec": {
   "display_name": "Python 3",
   "language": "python",
   "name": "python3"
  },
  "language_info": {
   "codemirror_mode": {
    "name": "ipython",
    "version": 3
   },
   "file_extension": ".py",
   "mimetype": "text/x-python",
   "name": "python",
   "nbconvert_exporter": "python",
   "pygments_lexer": "ipython3",
   "version": "3.6.1"
  }
 },
 "nbformat": 4,
 "nbformat_minor": 2
}

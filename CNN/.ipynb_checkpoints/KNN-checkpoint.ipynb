{
 "cells": [
  {
   "cell_type": "code",
   "execution_count": 3,
   "metadata": {
    "collapsed": true
   },
   "outputs": [],
   "source": [
    "import numpy as np"
   ]
  },
  {
   "cell_type": "code",
   "execution_count": 4,
   "metadata": {
    "collapsed": true
   },
   "outputs": [],
   "source": [
    "class NearestNeighbour:\n",
    "    \n",
    "    def __init__(self):\n",
    "        pass\n",
    "    \n",
    "    def train(self, X, Y):\n",
    "        self.Xtr = X\n",
    "        self.Ytr = Y\n",
    "        \n",
    "    def predict(self, X):\n",
    "        num_test = X.shape[0]\n",
    "        Ypred = np.zeros(num_test, dtype=self.Ytr.dtype)\n",
    "        \n",
    "        for i in range(num_test):\n",
    "            \n",
    "            distance = np.sum(np.abs(self.Xtr - X[i, :]), axis=1)\n",
    "            min_index = np.argmin(distance)\n",
    "            Ypred[i] = self.Ytr[min_index]\n",
    "            \n",
    "        return Ypred"
   ]
  },
  {
   "cell_type": "code",
   "execution_count": 13,
   "metadata": {
    "collapsed": true
   },
   "outputs": [],
   "source": [
    "import matplotlib.pyplot as plt\n",
    "import math\n",
    "%matplotlib inline"
   ]
  },
  {
   "cell_type": "code",
   "execution_count": 103,
   "metadata": {
    "collapsed": true
   },
   "outputs": [],
   "source": [
    "\n",
    "\n",
    "def calculate_eculid(point_a, point_b):\n",
    "    return math.sqrt((point_a[0] - point_b[0]) ** 2 + (point_a[1] - point_b[1]) ** 2)\n",
    "\n",
    "def manhatten(point_a, point_b):\n",
    "    return np.abs(point_a[0] - point_b[0]) + np.abs(point_a[1] - point_b[1])\n",
    "\n",
    "def dot(point_a, point_b):\n",
    "    return np.dot(point_a, point_b)\n",
    "\n",
    "def classify_a_point(points, inp_point, k=3):\n",
    "    \n",
    "    distances = list()\n",
    "    \n",
    "    for group in points:\n",
    "        for point in points[group]:\n",
    "            # distances.append((calculate_eculid(point, inp_point), group))\n",
    "            # distances.append((manhatten(point, inp_point), group))\n",
    "            distances.append((dot(point, inp_point), group))\n",
    "            \n",
    "    distances = sorted(distances)[:k]\n",
    "    \n",
    "    \n",
    "    freq_a = 0\n",
    "    freq_b = 0\n",
    "    for distance in distances:\n",
    "        if distance[1] == 0:\n",
    "            freq_a += 1\n",
    "        else:\n",
    "            freq_b += 1\n",
    "\n",
    "    zero = points[0]\n",
    "    one = points[1]\n",
    "\n",
    "    zero_x = list()\n",
    "    zero_y = list()\n",
    "    one_x = list()\n",
    "    one_y = list()\n",
    "\n",
    "    for point in zero:\n",
    "        zero_x.append(point[0])\n",
    "        zero_y.append(point[1])\n",
    "\n",
    "    for point in one:\n",
    "        one_x.append(point[0])\n",
    "        one_y.append(point[1])\n",
    "\n",
    "    plt.scatter(zero_x, zero_y)\n",
    "    plt.scatter(one_x, one_y)\n",
    "    plt.scatter(inp_point[0], inp_point[1])\n",
    "    plt.show()\n",
    "            \n",
    "    return 0 if freq_a > freq_b else 1\n",
    "    "
   ]
  },
  {
   "cell_type": "code",
   "execution_count": 104,
   "metadata": {},
   "outputs": [
    {
     "data": {
      "image/png": "[encoded data removed]",
      "text/plain": [
       "<matplotlib.figure.Figure at 0x21c430c00b8>"
      ]
     },
     "metadata": {},
     "output_type": "display_data"
    },
    {
     "name": "stdout",
     "output_type": "stream",
     "text": [
      "1\n"
     ]
    }
   ],
   "source": [
    "points = {0:[(1,12),(2,5),(3,6),(3,10),(3.5,8),(2,11),(2,9),(1,7)], \n",
    "          1:[(5,3),(3,2),(1.5,9),(7,2),(6,1),(3.8,1),(5.6,4),(4,2),(2,5)]}\n",
    "\n",
    "print (classify_a_point(points, (1.5, 1), k=5))"
   ]
  },
  {
   "cell_type": "code",
   "execution_count": 105,
   "metadata": {},
   "outputs": [
    {
     "data": {
      "image/png": "[encoded data removed]",
      "text/plain": [
       "<matplotlib.figure.Figure at 0x21c43515128>"
      ]
     },
     "metadata": {},
     "output_type": "display_data"
    },
    {
     "name": "stdout",
     "output_type": "stream",
     "text": [
      "1\n"
     ]
    }
   ],
   "source": [
    "print (classify_a_point(points, (1.5, 10), k=5))"
   ]
  },
  {
   "cell_type": "code",
   "execution_count": 106,
   "metadata": {},
   "outputs": [
    {
     "data": {
      "image/png": "[encoded data removed]",
      "text/plain": [
       "<matplotlib.figure.Figure at 0x21c430a5550>"
      ]
     },
     "metadata": {},
     "output_type": "display_data"
    },
    {
     "name": "stdout",
     "output_type": "stream",
     "text": [
      "1\n"
     ]
    }
   ],
   "source": [
    "print (classify_a_point(points, (1.5, 10), k=1))"
   ]
  },
  {
   "cell_type": "code",
   "execution_count": 56,
   "metadata": {},
   "outputs": [
    {
     "name": "stdout",
     "output_type": "stream",
     "text": [
      "[[180  33  16 235  60 218]\n",
      " [137 101 156  99  81  75]\n",
      " [ 61 157 196 109  20 127]\n",
      " [108  64 213 100  53 101]\n",
      " [101  66 141 118   5 150]\n",
      " [243 160 246  92 147 248]]\n"
     ]
    }
   ],
   "source": [
    "print (np.random.randint(0, 255, (6, 6)))"
   ]
  },
  {
   "cell_type": "code",
   "execution_count": 59,
   "metadata": {},
   "outputs": [
    {
     "name": "stdout",
     "output_type": "stream",
     "text": [
      "[[ 0.7593872   0.32378695  0.96536766]\n",
      " [ 0.94210621  0.45033773  0.33003215]\n",
      " [ 0.38132587  0.76170151  0.18135076]]\n"
     ]
    }
   ],
   "source": [
    "print (np.random.random((3, 3)))"
   ]
  },
  {
   "cell_type": "code",
   "execution_count": 60,
   "metadata": {},
   "outputs": [
    {
     "name": "stdout",
     "output_type": "stream",
     "text": [
      "[[ 0.4654124   0.33845439  0.0800069 ]\n",
      " [ 0.29572835  0.06614855  0.77191279]\n",
      " [ 0.87202031  0.54756442  0.49787856]]\n"
     ]
    }
   ],
   "source": [
    "print (np.random.random((3, 3)))"
   ]
  },
  {
   "cell_type": "code",
   "execution_count": 107,
   "metadata": {
    "collapsed": true
   },
   "outputs": [],
   "source": [
    "def squash_pixel_value(value):\n",
    "    if value < 0:\n",
    "        return 0\n",
    "    elif value > 255:\n",
    "        return 255\n",
    "    return value\n",
    "\n",
    "\n",
    "def convolve_2d_kernel(inp_img, kernel, squash_pixel=True):\n",
    "    padded_arr = np.pad(inp_img, (1, 1), 'constant')\n",
    "    \n",
    "    kernel_width = kernel.shape[0]\n",
    "    kernel_height = kernel.shape[1]\n",
    "    \n",
    "    transformed_arr = np.zeros(inp_img.shape)\n",
    "    \n",
    "    for i in range(padded_arr.shape[0] - kernel_width + 1):\n",
    "        for j in range(padded_arr.shape[1] - kernel_height + 1):\n",
    "            temp_arr = padded_arr[i: i + kernel_width, j: j+kernel_height]\n",
    "            if squash_pixel:\n",
    "                transformed_arr[i, j] = squash_pixel_value(np.sum(temp_arr * kernel)  / (len(kernel) ** 2))\n",
    "            else:\n",
    "                transformed_arr[i, j] = np.sum(temp_arr * kernel) / (len(kernel) ** 2)\n",
    "\n",
    "    return transformed_arr\n"
   ]
  },
  {
   "cell_type": "code",
   "execution_count": 108,
   "metadata": {},
   "outputs": [
    {
     "data": {
      "text/plain": [
       "array([[-0.85189233,  0.59444472, -0.9932136 ],\n",
       "       [ 0.66583509, -0.40545541,  0.96137405],\n",
       "       [ 0.61511852, -0.64863654,  0.90947444]])"
      ]
     },
     "execution_count": 108,
     "metadata": {},
     "output_type": "execute_result"
    }
   ],
   "source": [
    "np.random.uniform(-1, 1, (3, 3))"
   ]
  },
  {
   "cell_type": "code",
   "execution_count": 109,
   "metadata": {},
   "outputs": [
    {
     "data": {
      "text/plain": [
       "array([[-0.2886057 , -0.58218359, -0.38961817],\n",
       "       [-0.01068112, -0.97104013, -0.40908814],\n",
       "       [-0.21431185,  0.35105214,  0.18035171]])"
      ]
     },
     "execution_count": 109,
     "metadata": {},
     "output_type": "execute_result"
    }
   ],
   "source": [
    "np.random.uniform(-1, 1, (3, 3))"
   ]
  },
  {
   "cell_type": "code",
   "execution_count": 110,
   "metadata": {
    "collapsed": true
   },
   "outputs": [],
   "source": [
    "arr = [-1, 0, 1]\n",
    "\n",
    "\n",
    "filter1 = np.random.choice(arr, (3, 3))\n",
    "\n",
    "filter2 = np.random.choice(arr, (3, 3))\n",
    "\n",
    "mat = np.array([[180,33,16,235,60,218],\n",
    " [137,101,156,99,81,75],\n",
    " [ 61,157,196,109,20,127],\n",
    " [108,64,213,100,53,101],\n",
    " [101,66,141,118,5,150],\n",
    " [243,160,246,92,147,248]])"
   ]
  },
  {
   "cell_type": "code",
   "execution_count": 111,
   "metadata": {},
   "outputs": [
    {
     "name": "stdout",
     "output_type": "stream",
     "text": [
      "******************************  FILTER1_1 ******************************\n",
      "[[ 38.88888889   1.44444444  34.          26.44444444  28.88888889\n",
      "   23.55555556]\n",
      " [ 49.55555556  41.11111111   8.33333333  29.77777778   0.          44.44444444]\n",
      " [ 40.22222222  28.22222222  56.77777778   3.77777778  11.77777778\n",
      "   27.77777778]\n",
      " [ 19.66666667  22.55555556  52.77777778  24.33333333   0.          41.44444444]\n",
      " [ 50.44444444   0.          50.88888889   1.77777778  18.          39.11111111]\n",
      " [ 48.66666667  36.77777778  40.11111111  39.11111111  27.77777778\n",
      "   44.22222222]]\n",
      "\n",
      "\n",
      "\n",
      "******************************  FILTER1_2 ******************************\n",
      "[[ 38.88888889  36.66666667  48.88888889  45.55555556  66.          39.22222222]\n",
      " [ 13.22222222  37.55555556  55.88888889  21.55555556   0.           0.55555556]\n",
      " [ 21.          26.66666667  46.44444444  18.88888889  14.33333333\n",
      "   10.22222222]\n",
      " [ 23.55555556  25.88888889  18.33333333  19.88888889  14.44444444\n",
      "   17.44444444]\n",
      " [ 33.55555556  32.88888889  32.66666667   4.77777778  29.66666667\n",
      "   27.66666667]\n",
      " [ 33.55555556  53.55555556  32.33333333  25.11111111  40.44444444\n",
      "   26.66666667]]\n"
     ]
    }
   ],
   "source": [
    "filter1_1 = convolve_2d_kernel(mat, filter1)\n",
    "filter1_2 = convolve_2d_kernel(mat, filter2)\n",
    "print ('*' * 30, ' FILTER1_1', '*' * 30)\n",
    "print (filter1_1)\n",
    "print('\\n' * 2)\n",
    "print ('*' * 30, ' FILTER1_2', '*' * 30)\n",
    "print (filter1_2)"
   ]
  },
  {
   "cell_type": "markdown",
   "metadata": {},
   "source": [
    "## Activation"
   ]
  },
  {
   "cell_type": "code",
   "execution_count": 128,
   "metadata": {
    "collapsed": true
   },
   "outputs": [],
   "source": [
    "def apply_activation(value):\n",
    "    return max(0.0, value)"
   ]
  },
  {
   "cell_type": "code",
   "execution_count": 130,
   "metadata": {
    "collapsed": true
   },
   "outputs": [],
   "source": [
    "f = np.vectorize(apply_activation, otypes=[np.float])\n",
    "act_1 = f(filter1_1)\n",
    "act_2 = f(filter1_2)"
   ]
  },
  {
   "cell_type": "markdown",
   "metadata": {},
   "source": [
    "## Max pool"
   ]
  },
  {
   "cell_type": "code",
   "execution_count": 143,
   "metadata": {
    "collapsed": true
   },
   "outputs": [],
   "source": [
    "def max_pool(mat, kernel_size=2, stride=2):\n",
    "    pool_mat = np.zeros((mat.shape[0] // stride, mat.shape[1] // stride))\n",
    "    for i in range(0, mat.shape[0], stride):\n",
    "        for j in range(0, mat.shape[1], stride):\n",
    "            temp_mat = mat[i: i + kernel_size, j: j + kernel_size]\n",
    "            pool_mat[i // stride, j // stride] = np.max(temp_mat)\n",
    "    return pool_mat\n",
    "            "
   ]
  },
  {
   "cell_type": "code",
   "execution_count": 144,
   "metadata": {
    "collapsed": true
   },
   "outputs": [],
   "source": [
    "pool_1 = max_pool(act_1)\n",
    "pool_2 = max_pool(act_2)"
   ]
  },
  {
   "cell_type": "markdown",
   "metadata": {},
   "source": [
    "## Fully connected layer"
   ]
  },
  {
   "cell_type": "code",
   "execution_count": 152,
   "metadata": {
    "collapsed": true
   },
   "outputs": [],
   "source": [
    "def fully_connected(mat, num_output):\n",
    "    w = np.random.randn(num_output, mat.shape[0] * mat.shape[1])\n",
    "    b = np.random.randn(num_output, 1)\n",
    "    output = np.dot(w, mat) + b\n",
    "    print(output)"
   ]
  },
  {
   "cell_type": "code",
   "execution_count": 155,
   "metadata": {},
   "outputs": [
    {
     "ename": "ValueError",
     "evalue": "shapes (2,36) and (6,6) not aligned: 36 (dim 1) != 6 (dim 0)",
     "output_type": "error",
     "traceback": [
      "\u001b[1;31m---------------------------------------------------------------------------\u001b[0m",
      "\u001b[1;31mValueError\u001b[0m                                Traceback (most recent call last)",
      "\u001b[1;32m<ipython-input-155-9b96a31d4677>\u001b[0m in \u001b[0;36m<module>\u001b[1;34m()\u001b[0m\n\u001b[1;32m----> 1\u001b[1;33m \u001b[0mfully_connected\u001b[0m\u001b[1;33m(\u001b[0m\u001b[0mmat\u001b[0m\u001b[1;33m,\u001b[0m \u001b[1;36m2\u001b[0m\u001b[1;33m)\u001b[0m\u001b[1;33m\u001b[0m\u001b[0m\n\u001b[0m",
      "\u001b[1;32m<ipython-input-152-54b2597f0391>\u001b[0m in \u001b[0;36mfully_connected\u001b[1;34m(mat, num_output)\u001b[0m\n\u001b[0;32m      2\u001b[0m     \u001b[0mw\u001b[0m \u001b[1;33m=\u001b[0m \u001b[0mnp\u001b[0m\u001b[1;33m.\u001b[0m\u001b[0mrandom\u001b[0m\u001b[1;33m.\u001b[0m\u001b[0mrandn\u001b[0m\u001b[1;33m(\u001b[0m\u001b[0mnum_output\u001b[0m\u001b[1;33m,\u001b[0m \u001b[0mmat\u001b[0m\u001b[1;33m.\u001b[0m\u001b[0mshape\u001b[0m\u001b[1;33m[\u001b[0m\u001b[1;36m0\u001b[0m\u001b[1;33m]\u001b[0m \u001b[1;33m*\u001b[0m \u001b[0mmat\u001b[0m\u001b[1;33m.\u001b[0m\u001b[0mshape\u001b[0m\u001b[1;33m[\u001b[0m\u001b[1;36m1\u001b[0m\u001b[1;33m]\u001b[0m\u001b[1;33m)\u001b[0m\u001b[1;33m\u001b[0m\u001b[0m\n\u001b[0;32m      3\u001b[0m     \u001b[0mb\u001b[0m \u001b[1;33m=\u001b[0m \u001b[0mnp\u001b[0m\u001b[1;33m.\u001b[0m\u001b[0mrandom\u001b[0m\u001b[1;33m.\u001b[0m\u001b[0mrandn\u001b[0m\u001b[1;33m(\u001b[0m\u001b[0mnum_output\u001b[0m\u001b[1;33m,\u001b[0m \u001b[1;36m1\u001b[0m\u001b[1;33m)\u001b[0m\u001b[1;33m\u001b[0m\u001b[0m\n\u001b[1;32m----> 4\u001b[1;33m     \u001b[0moutput\u001b[0m \u001b[1;33m=\u001b[0m \u001b[0mnp\u001b[0m\u001b[1;33m.\u001b[0m\u001b[0mdot\u001b[0m\u001b[1;33m(\u001b[0m\u001b[0mw\u001b[0m\u001b[1;33m,\u001b[0m \u001b[0mmat\u001b[0m\u001b[1;33m)\u001b[0m \u001b[1;33m+\u001b[0m \u001b[0mb\u001b[0m\u001b[1;33m\u001b[0m\u001b[0m\n\u001b[0m\u001b[0;32m      5\u001b[0m     \u001b[0mprint\u001b[0m\u001b[1;33m(\u001b[0m\u001b[0moutput\u001b[0m\u001b[1;33m)\u001b[0m\u001b[1;33m\u001b[0m\u001b[0m\n",
      "\u001b[1;31mValueError\u001b[0m: shapes (2,36) and (6,6) not aligned: 36 (dim 1) != 6 (dim 0)"
     ]
    }
   ],
   "source": [
    "fully_connected(mat, 2)"
   ]
  },
  {
   "cell_type": "code",
   "execution_count": 180,
   "metadata": {},
   "outputs": [
    {
     "name": "stdout",
     "output_type": "stream",
     "text": [
      "20\n",
      "4.472135955\n",
      "20\n",
      "4.472135955\n"
     ]
    }
   ],
   "source": [
    "first = np.array([[1, 2, 3, 4], [1, 2, 3, 4]])\n",
    "second = np.array([[4, 3, 2, 1], [4, 3, 2, 1]])\n",
    "for i in range(2):\n",
    "#     print (np.sum((np.square(first[i, :] - second[i, :]))))\n",
    "    print (np.sqrt(np.sum(np.square(first[i, :] - second[i, :]))))"
   ]
  },
  {
   "cell_type": "code",
   "execution_count": 162,
   "metadata": {},
   "outputs": [
    {
     "data": {
      "text/plain": [
       "array([[1, 2, 3, 4],\n",
       "       [1, 2, 3, 4]])"
      ]
     },
     "execution_count": 162,
     "metadata": {},
     "output_type": "execute_result"
    }
   ],
   "source": [
    "first "
   ]
  },
  {
   "cell_type": "code",
   "execution_count": 163,
   "metadata": {},
   "outputs": [
    {
     "data": {
      "text/plain": [
       "array([[4, 3, 2, 1],\n",
       "       [4, 3, 2, 1]])"
      ]
     },
     "execution_count": 163,
     "metadata": {},
     "output_type": "execute_result"
    }
   ],
   "source": [
    "second"
   ]
  },
  {
   "cell_type": "code",
   "execution_count": 177,
   "metadata": {},
   "outputs": [
    {
     "data": {
      "text/plain": [
       "array([[20, 20],\n",
       "       [20, 20]])"
      ]
     },
     "execution_count": 177,
     "metadata": {},
     "output_type": "execute_result"
    }
   ],
   "source": [
    "np.matmul(first, second.T)"
   ]
  },
  {
   "cell_type": "code",
   "execution_count": 174,
   "metadata": {
    "collapsed": true
   },
   "outputs": [],
   "source": [
    "sq1 = np.sum(np.square(first) ,axis = 1)\n",
    "sq2 = np.sum(np.square(second) ,axis = 1)"
   ]
  },
  {
   "cell_type": "code",
   "execution_count": 176,
   "metadata": {
    "collapsed": true
   },
   "outputs": [],
   "source": [
    "np.subtract?"
   ]
  },
  {
   "cell_type": "code",
   "execution_count": 181,
   "metadata": {},
   "outputs": [
    {
     "name": "stdout",
     "output_type": "stream",
     "text": [
      "[10, 11, 13, 14, 15]\n"
     ]
    }
   ],
   "source": [
    "lst = [10, 11, 12, 13, 14, 15]\n",
    "print (lst[:2] + lst[3:])"
   ]
  },
  {
   "cell_type": "code",
   "execution_count": 1,
   "metadata": {
    "collapsed": true
   },
   "outputs": [],
   "source": [
    "import numpy as np\n"
   ]
  },
  {
   "cell_type": "code",
   "execution_count": 2,
   "metadata": {
    "collapsed": true
   },
   "outputs": [],
   "source": [
    "np.linalg.svd?"
   ]
  },
  {
   "cell_type": "code",
   "execution_count": 28,
   "metadata": {
    "collapsed": true
   },
   "outputs": [],
   "source": [
    "import numpy as np\n",
    "import matplotlib.pyplot as plt\n",
    "\n",
    "%matplotlib inline \n",
    "\n",
    "D = np.random.rand(1000, 500)\n",
    "hidden_layer_sizes = [500] * 30\n",
    "nonlin = ['tanh'] * len(hidden_layer_sizes)\n",
    "\n",
    "act = {'relu': lambda x: np.maximum(0, x), 'tanh': lambda x: np.tanh(x)}\n",
    "Hs = {}\n",
    "for i in range(len(hidden_layer_sizes)):\n",
    "    X = D if i == 0 else Hs[i - 1]\n",
    "    fan_in = X.shape[1]\n",
    "    fan_out = hidden_layer_sizes[i]\n",
    "    W = np.random.randn(fan_in, fan_out) * 0.01\n",
    "#     W = np.random.randn(fan_in, fan_out) / np.sqrt(fan_in)  # Xavier initialization\n",
    "    H = np.dot(X, W)\n",
    "    H = act[nonlin[i]](H)\n",
    "    Hs[i] = H"
   ]
  },
  {
   "cell_type": "code",
   "execution_count": 29,
   "metadata": {},
   "outputs": [
    {
     "name": "stdout",
     "output_type": "stream",
     "text": [
      "Input layer had mean 0.500184 and std 0.288697\n",
      "Hidden layer 1 had means 0.015966 and std 0.448486\n",
      "Hidden layer 2 had means 0.003067 and std 0.385153\n",
      "Hidden layer 3 had means -0.013242 and std 0.334003\n",
      "Hidden layer 4 had means -0.014922 and std 0.308324\n",
      "Hidden layer 5 had means 0.019541 and std 0.286581\n",
      "Hidden layer 6 had means -0.002058 and std 0.259026\n",
      "Hidden layer 7 had means -0.000476 and std 0.242745\n",
      "Hidden layer 8 had means -0.001975 and std 0.225594\n",
      "Hidden layer 9 had means -0.008364 and std 0.215412\n",
      "Hidden layer 10 had means 0.002494 and std 0.205972\n",
      "Hidden layer 11 had means -0.002142 and std 0.200679\n",
      "Hidden layer 12 had means -0.005515 and std 0.191427\n",
      "Hidden layer 13 had means -0.005359 and std 0.182149\n",
      "Hidden layer 14 had means -0.003814 and std 0.175857\n",
      "Hidden layer 15 had means 0.007926 and std 0.173614\n",
      "Hidden layer 16 had means 0.003943 and std 0.169488\n",
      "Hidden layer 17 had means 0.001679 and std 0.171298\n",
      "Hidden layer 18 had means -0.005577 and std 0.160609\n",
      "Hidden layer 19 had means 0.005013 and std 0.158389\n",
      "Hidden layer 20 had means -0.008218 and std 0.148664\n",
      "Hidden layer 21 had means 0.010882 and std 0.145787\n",
      "Hidden layer 22 had means 0.002058 and std 0.144327\n",
      "Hidden layer 23 had means 0.000801 and std 0.142308\n",
      "Hidden layer 24 had means -0.003091 and std 0.144511\n",
      "Hidden layer 25 had means 0.001843 and std 0.142603\n",
      "Hidden layer 26 had means -0.002502 and std 0.139204\n",
      "Hidden layer 27 had means 0.000044 and std 0.140641\n",
      "Hidden layer 28 had means 0.002297 and std 0.137103\n",
      "Hidden layer 29 had means -0.005072 and std 0.138808\n",
      "Hidden layer 30 had means -0.000176 and std 0.138479\n"
     ]
    },
    {
     "data": {
      "image/png": "[encoded data removed]",
      "text/plain": [
       "<matplotlib.figure.Figure at 0x7fc57bd82fd0>"
      ]
     },
     "metadata": {},
     "output_type": "display_data"
    },
    {
     "data": {
      "image/png": "[encoded data removed]",
      "text/plain": [
       "<matplotlib.figure.Figure at 0x7fc578971910>"
      ]
     },
     "metadata": {},
     "output_type": "display_data"
    }
   ],
   "source": [
    "print (\"Input layer had mean %f and std %f\" % (np.mean(D), np.std(D)))\n",
    "\n",
    "layer_means = [np.mean(H) for i, H in Hs.items()]\n",
    "layer_stds = [np.std(H) for i, H in Hs.items()]\n",
    "\n",
    "for i, H in Hs.items():\n",
    "    print (\"Hidden layer %d had means %f and std %f\" % (i + 1, layer_means[i], layer_stds[i]))\n",
    "    \n",
    "plt.figure()\n",
    "plt.subplot(121)\n",
    "plt.plot(Hs.keys(), layer_means, \"ob-\")\n",
    "plt.title(\"layer means\")\n",
    "plt.subplot(122)\n",
    "plt.plot(Hs.keys(), layer_stds, \"ob-\")\n",
    "plt.title(\"layer stds\")\n",
    "plt.subplots_adjust(left=1, bottom=0, right=3, top=1, wspace=1, hspace=1)\n",
    "fig = plt.figure()\n",
    "for i, H in Hs.items():\n",
    "    plt.subplot(1, len(Hs), i + 1)\n",
    "    plt.hist(H.ravel(), 30, range=(-1, 1))\n",
    "plt.subplots_adjust(left=1, bottom=0, right=3, top=1, wspace=1, hspace=1)"
   ]
  },
  {
   "cell_type": "code",
   "execution_count": null,
   "metadata": {
    "collapsed": true
   },
   "outputs": [],
   "source": []
  }
 ],
 "metadata": {
  "kernelspec": {
   "display_name": "Python 2",
   "language": "python",
   "name": "python2"
  },
  "language_info": {
   "codemirror_mode": {
    "name": "ipython",
    "version": 2
   },
   "file_extension": ".py",
   "mimetype": "text/x-python",
   "name": "python",
   "nbconvert_exporter": "python",
   "pygments_lexer": "ipython2",
   "version": "2.7.12"
  }
 },
 "nbformat": 4,
 "nbformat_minor": 2
}
